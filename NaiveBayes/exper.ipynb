{
 "cells": [
  {
   "cell_type": "code",
   "execution_count": 24,
   "metadata": {},
   "outputs": [
    {
     "name": "stdout",
     "output_type": "stream",
     "text": [
      "[0, 0, 0, 0, 0]\n",
      "[100, 100, 100, 100, 100]\n"
     ]
    }
   ],
   "source": [
    "X = [100,101,102,103,104]\n",
    "y = [0,1,2,3,4]\n",
    "c = len(set(y))\n",
    "Xy = [y[y==i] for i in range(c)]\n",
    "print(Xy)\n",
    "Xs = [X[y==i] for i in range(c)]\n",
    "print(Xs)"
   ]
  },
  {
   "cell_type": "code",
   "execution_count": 27,
   "metadata": {},
   "outputs": [
    {
     "name": "stdout",
     "output_type": "stream",
     "text": [
      "[[100], [101, 102], [103], [104]]\n"
     ]
    }
   ],
   "source": [
    "X = [100, 101, 102, 103, 104]\n",
    "y = [0, 1, 1, 2, 3]\n",
    "c = len(set(y))\n",
    "# 使用列表推导式和enumerate函数来获取满足条件的索引\n",
    "Xs = [ [X[idx] for idx, value in enumerate(y) if value == i] for i in range(c)]\n",
    "\n",
    "print(Xs)"
   ]
  },
  {
   "cell_type": "code",
   "execution_count": 40,
   "metadata": {},
   "outputs": [
    {
     "name": "stdout",
     "output_type": "stream",
     "text": [
      "[(array([0], dtype=int64),), (array([1, 2], dtype=int64),), (array([3], dtype=int64),), (array([4], dtype=int64),)]\n",
      "[array([100]), array([101, 102]), array([103]), array([104])]\n"
     ]
    }
   ],
   "source": [
    "import numpy as np\n",
    "\n",
    "X = np.array([100, 101, 102, 103, 104])\n",
    "y = np.array([0, 1, 1, 2, 3])\n",
    "c = len(set(y))\n",
    "\n",
    "idx = [np.where(y == i) for i in range(c)]\n",
    "print(idx)\n",
    "\n",
    "# 使用numpy的where函数来获取满足条件的索引\n",
    "Xs = [X[np.where(y == i)] for i in range(c)]\n",
    "\n",
    "print(Xs)"
   ]
  }
 ],
 "metadata": {
  "kernelspec": {
   "display_name": "Python 3",
   "language": "python",
   "name": "python3"
  },
  "language_info": {
   "codemirror_mode": {
    "name": "ipython",
    "version": 3
   },
   "file_extension": ".py",
   "mimetype": "text/x-python",
   "name": "python",
   "nbconvert_exporter": "python",
   "pygments_lexer": "ipython3",
   "version": "3.11.6"
  }
 },
 "nbformat": 4,
 "nbformat_minor": 2
}
