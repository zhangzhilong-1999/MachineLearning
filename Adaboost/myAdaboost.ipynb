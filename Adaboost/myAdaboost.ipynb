{
 "cells": [
  {
   "cell_type": "code",
   "execution_count": 1,
   "metadata": {},
   "outputs": [],
   "source": [
    "import numpy as np\n",
    "from tqdm import tqdm"
   ]
  },
  {
   "cell_type": "code",
   "execution_count": 2,
   "metadata": {},
   "outputs": [],
   "source": [
    "class MyAdaboost:\n",
    "    def __init__(self, n_estimators):\n",
    "        self.n_estimators = n_estimators\n",
    "        self.weights = None\n",
    "        self.clfs = [lambda x:0 for i in range(n_estimators)]\n",
    "        self.alphas = [0 for i in range(n_estimators)]\n",
    "\n",
    "    def _G(self, fi, fv, direction):\n",
    "        assert direction in ['positive', 'negative']\n",
    "        def _g(X):\n",
    "            if direction == 'positive':\n",
    "                predict = (X[:,fi] <= fv) * -1\n",
    "            else:\n",
    "                predict = (X[:,fi] > fv) * -1\n",
    "            predict[predict == 0] = 1\n",
    "            return predict\n",
    "        return _g\n",
    "\n",
    "    def _best_split(self, X, y, w):\n",
    "        best_err = X.shape[0]\n",
    "        best_fi = None\n",
    "        best_fv = None\n",
    "        best_direction = None\n",
    "        for fi in range(X.shape[1]):\n",
    "            series = X[:,fi]\n",
    "            for fv in np.sort(series):\n",
    "                predict = np.zeros_like(series, dtype=np.int32)\n",
    "                # direction = positive\n",
    "                predict[series <= fv] = -1\n",
    "                predict[series > fv] = 1\n",
    "                err = np.sum( (predict != y)*w )\n",
    "                if err < best_err:\n",
    "                    best_err = err\n",
    "                    best_fi = fi\n",
    "                    best_fv = fv\n",
    "                    best_direction = 'positive'\n",
    "                predict = predict * -1\n",
    "                err = np.sum( (predict != y)*w )\n",
    "                if err < best_err:\n",
    "                    best_err = err\n",
    "                    best_fi = fi\n",
    "                    best_fv = fv\n",
    "                    best_direction = 'negative'\n",
    "        return best_err, best_fi, best_fv, best_direction\n",
    "    \n",
    "    def fit(self, X_train, y_train):\n",
    "        self.weights = np.ones_like(y_train) / len(y_train)\n",
    "        for i in tqdm(range(self.n_estimators)):\n",
    "            err, fi, fv, direction = self._best_split(X_train, y_train, self.weights)\n",
    "            if err == 0: break\n",
    "            # 计算G(x)\n",
    "            g = self._G(fi, fv, direction)\n",
    "            self.clfs[i] = g\n",
    "            # 计算 G(x)的系数alpha\n",
    "            alpha = 0.5 * np.log((1-err)/err)\n",
    "            self.alphas[i] = alpha\n",
    "            # 更新weights\n",
    "            self.weights = self.weights * np.exp( -1 * alpha * y_train * g(X_train) )\n",
    "            self.weights = self.weights / np.sum(self.weights)\n",
    "    \n",
    "    def predict(self, X_test):\n",
    "        y_p = np.array([self.alphas[i] * self.clfs[i](X_test) for i in range(self.n_estimators)])\n",
    "        y_p = np.sum(y_p, axis=0)\n",
    "        y_predict = np.zeros_like(y_p, dtype=np.int32)\n",
    "        y_predict[y_p>=0] = 1\n",
    "        y_predict[y_p<0] = -1\n",
    "        return y_predict\n",
    "    \n",
    "    def score(self, X_test, y_test):\n",
    "        y_predict = self.predict(X_test)\n",
    "        return np.sum(y_predict == y_test) / len(y_test)\n"
   ]
  },
  {
   "cell_type": "code",
   "execution_count": 3,
   "metadata": {},
   "outputs": [
    {
     "name": "stderr",
     "output_type": "stream",
     "text": [
      "100%|██████████| 100/100 [00:32<00:00,  3.09it/s]\n"
     ]
    },
    {
     "data": {
      "text/plain": [
       "0.986013986013986"
      ]
     },
     "execution_count": 3,
     "metadata": {},
     "output_type": "execute_result"
    }
   ],
   "source": [
    "from sklearn.datasets import load_breast_cancer\n",
    "from sklearn.model_selection import train_test_split\n",
    "breast_cancer = load_breast_cancer()\n",
    "X = breast_cancer.data\n",
    "y = breast_cancer.target\n",
    "y[y==0] = -1\n",
    "\n",
    "# 划分数据\n",
    "X_train, X_test, y_train, y_test = train_test_split(X,y)\n",
    "\n",
    "clf = MyAdaboost(100)\n",
    "clf.fit(X_train,y_train)\n",
    "clf.score(X_test,y_test)"
   ]
  }
 ],
 "metadata": {
  "kernelspec": {
   "display_name": "Python 3",
   "language": "python",
   "name": "python3"
  },
  "language_info": {
   "codemirror_mode": {
    "name": "ipython",
    "version": 3
   },
   "file_extension": ".py",
   "mimetype": "text/x-python",
   "name": "python",
   "nbconvert_exporter": "python",
   "pygments_lexer": "ipython3",
   "version": "3.11.6"
  }
 },
 "nbformat": 4,
 "nbformat_minor": 2
}
