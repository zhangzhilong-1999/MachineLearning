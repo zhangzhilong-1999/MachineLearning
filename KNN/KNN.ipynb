{
 "cells": [
  {
   "cell_type": "markdown",
   "metadata": {},
   "source": [
    "# kd树实现"
   ]
  },
  {
   "cell_type": "code",
   "execution_count": 1,
   "metadata": {},
   "outputs": [],
   "source": [
    "# 自己写出knn的kd树实现\n",
    "import numpy as np\n",
    "import heapq\n",
    "from tqdm import tqdm\n",
    "from numpy.linalg import norm\n",
    "class KdNode:\n",
    "    def __init__(self, point = None, label = None, fi = None, fv = None, left = None, right = None):\n",
    "        self.point = point\n",
    "        self.label = label\n",
    "        self.fi = fi\n",
    "        self.fv = fv\n",
    "        self.left = left\n",
    "        self.right = right\n",
    "\n",
    "class KdTreeKNN:\n",
    "    def __init__(self, k=1):\n",
    "        ''' \n",
    "        :param k k值\n",
    "        :param tree kd树\n",
    "        '''\n",
    "        self.k = k\n",
    "        self.tree = None\n",
    "\n",
    "    def Build(self, X, y, depth = 0):\n",
    "        ''' \n",
    "        :param X        train set\n",
    "        :param y        label\n",
    "        :param depth    depth\n",
    "        '''\n",
    "        # 递归终止条件\n",
    "        if X is None:       # 如果X是空集, not X =1,执行下面的命令.    也可以用 if X is None\n",
    "            return \n",
    "        n_samples, n_features = X.shape\n",
    "        if n_samples == 1:\n",
    "            return KdNode(point = X[0], label = y[0])\n",
    "\n",
    "        fi = depth % n_features\n",
    "         # 按选定的fi坐标轴取出元素\n",
    "        argsort = np.argsort(X[:,fi])\n",
    "        idx_middle = argsort[n_samples // 2]\n",
    "        idxs_left = argsort[:n_samples // 2] # 左闭右开\n",
    "        idxs_right = argsort[n_samples // 2+1:]\n",
    "        fv = X[idx_middle, fi]\n",
    "\n",
    "        left, right = None, None\n",
    "        if len(idxs_left) > 0:\n",
    "            left = self.Build(X[idxs_left], y[idxs_left], depth + 1)\n",
    "        if len(idxs_right) > 0:\n",
    "            right = self.Build(X[idxs_right], y[idxs_right],  depth + 1)\n",
    "        return KdNode(X[idx_middle], y[idx_middle], fi, fv, left, right)\n",
    "    \n",
    "    def fit(self, X, y):\n",
    "        ''' \n",
    "        :param X        train set\n",
    "        :param y        label\n",
    "        '''\n",
    "        self.tree = self.Build(X, y)\n",
    "\n",
    "    def nearest(self, kdtree, x, k=1, best_k= None):\n",
    "        '''\n",
    "        :param kdtree 给定数据集(X,y)生成的kd树\n",
    "        :param x 要预测的输入数据\n",
    "        :param k    k值\n",
    "        :param best_k 要从上次递归中接受, k个\n",
    "        在kdtree中找到equery的k近邻点\n",
    "        ''' \n",
    "        # 递归终止条件， 放在递归调用之前\n",
    "        if not kdtree:\n",
    "            return\n",
    "        \n",
    "        tem_distance = norm(x - kdtree.point)\n",
    "        if best_k is None:\n",
    "            '''\n",
    "            best_distance = norm(x - kdtree.point)\n",
    "            best_point = kdtree.point\n",
    "            best = [best_distance, best_point]\n",
    "            best_k.append(best)\n",
    "            '''\n",
    "            best_k= [[tem_distance, kdtree.point, kdtree.label]] * k # 凑够k个近邻点\n",
    "        elif tem_distance < best_k[-1][0]:\n",
    "            best_k[-1] = [tem_distance, kdtree.point, kdtree.label] # 凑够之后，替换\n",
    "            best_k.sort(key= lambda x: x[0], reverse= False)  # 按元素的第一个分量升序排列 \n",
    "\n",
    "        if kdtree.left is None and kdtree.right is None:    # and\n",
    "            return best_k\n",
    "\n",
    "        # 在kd树中找出包含x的叶节点\n",
    "        # （递归）回退找寻其他可能节点\n",
    "        dx = x[kdtree.fi] - kdtree.fv\n",
    "        if dx < 0:\n",
    "            self.nearest(kdtree.left, x, k, best_k)\n",
    "            if x[kdtree.fi] + best_k[-1][0] > kdtree.fv:\n",
    "                self.nearest(kdtree.right, x, k, best_k)\n",
    "        elif dx > 0:\n",
    "            self.nearest(kdtree.right, x, k, best_k)\n",
    "            if x[kdtree.fi] - best_k[-1][0] < kdtree.fv :\n",
    "                self.nearest(kdtree.left, x, k, best_k)\n",
    "        else:\n",
    "            self.nearest(kdtree.left, x, k, best_k)\n",
    "            self.nearest(kdtree.right, x, k, best_k)\n",
    "        return best_k\n",
    "    \n",
    "    def k_nearest(self, x):\n",
    "        best_k = self.nearest(self.tree, x, self.k, None)\n",
    "        # best_k_point =  [ best[1:] for best in best_k]  # 列表推导式\n",
    "        return best_k\n",
    "    \n",
    "    def _predict(self,x):\n",
    "        ''' \n",
    "        :param x 是equery的一个输入\n",
    "        '''\n",
    "        best_k = self.k_nearest(x)\n",
    "        labels = [best[2] for best in best_k]\n",
    "        \n",
    "        counter={}\n",
    "        for i in labels:\n",
    "            counter.setdefault(i,0)\n",
    "            counter[i] += 1         # i的值 +1\n",
    "        sort=sorted(counter.items(),key=lambda x:x[1])\n",
    "        return sort[-1][0]\n",
    "    \n",
    "    def predict(self,equery):\n",
    "        return np.array([self._predict(x) for x in tqdm(equery)])"
   ]
  },
  {
   "cell_type": "code",
   "execution_count": 2,
   "metadata": {},
   "outputs": [],
   "source": [
    "# 测试\n",
    "from sklearn.datasets import make_gaussian_quantiles\n",
    "X, y = make_gaussian_quantiles(n_samples=200, n_features=2, n_classes=2, mean=[1,2],cov=2,random_state=222)\n",
    "y_neg = y.copy()\n",
    "y_neg[y==0] = -1\n",
    "\n",
    "knn = KdTreeKNN(3)\n",
    "knn.fit(X,y_neg)\n",
    "\n",
    "import matplotlib.pyplot as plt\n",
    "%matplotlib inline\n",
    "def plot_clf(X,y,cls,name):\n",
    "    x_min, x_max = X[:, 0].min() - 1, X[:, 0].max() + 1\n",
    "    y_min, y_max = X[:, 1].min() - 1, X[:, 1].max() + 1\n",
    "    xx, yy = np.meshgrid(np.arange(x_min, x_max, 0.02),\n",
    "                         np.arange(y_min, y_max, 0.02))\n",
    "    points = np.c_[xx.ravel(), yy.ravel()]\n",
    "    Z = cls.predict(points)\n",
    "    cs = plt.contourf(xx, yy, Z.reshape(xx.shape))\n",
    "    plt.scatter(X[:, 0], X[:, 1], marker='o', c='red')\n",
    "    plt.title(name)"
   ]
  },
  {
   "cell_type": "code",
   "execution_count": 3,
   "metadata": {},
   "outputs": [
    {
     "name": "stderr",
     "output_type": "stream",
     "text": [
      "100%|██████████| 222300/222300 [00:16<00:00, 13608.84it/s]\n"
     ]
    },
    {
     "data": {
      "image/png": "[encoded data removed]",
      "text/plain": [
       "<Figure size 640x480 with 1 Axes>"
      ]
     },
     "metadata": {},
     "output_type": "display_data"
    }
   ],
   "source": [
    "plot_clf(X,y,knn,\"knn\")"
   ]
  },
  {
   "cell_type": "markdown",
   "metadata": {},
   "source": [
    "# 普通knn实现"
   ]
  },
  {
   "cell_type": "code",
   "execution_count": 4,
   "metadata": {},
   "outputs": [],
   "source": [
    "import numpy as np\n",
    "from tqdm import tqdm \n",
    "\n",
    "class KnnClassifier:\n",
    "    def __init__(self, k=1):\n",
    "        self.k = k\n",
    "        \n",
    "    def k_nearest(self, X, y, x):\n",
    "        if X is None:\n",
    "            return \n",
    "        distance_point_label = [[np.linalg.norm(x-Xi), Xi, yi] for Xi,yi in zip(X,y)]\n",
    "        distance_point_label.sort(key= lambda x: x[0]) # 按第一个位置的值升序排列\n",
    "        best_k = distance_point_label[0:self.k] # 左闭右开\n",
    "        return best_k\n",
    "\n",
    "    def _predict(self, X, y, x):\n",
    "        best_k_label = [best[2] for best in self.k_nearest(X, y, x)]\n",
    "        counter_dict = {}\n",
    "        for label in best_k_label:\n",
    "            counter_dict.setdefault(label,0)\n",
    "            counter_dict[label] += 1\n",
    "        counter_dict = sorted(counter_dict.items(), key = lambda x: x[1])\n",
    "        return counter_dict[-1][0]\n",
    "    \n",
    "    def predict(self, X, y, equery):\n",
    "        return np.array([self._predict(X, y, x) for x in tqdm(equery)])\n",
    "        "
   ]
  },
  {
   "cell_type": "code",
   "execution_count": 5,
   "metadata": {},
   "outputs": [
    {
     "name": "stderr",
     "output_type": "stream",
     "text": [
      "100%|██████████| 3/3 [00:00<00:00, 3014.59it/s]"
     ]
    },
    {
     "name": "stdout",
     "output_type": "stream",
     "text": [
      "[-1  1  1]\n"
     ]
    },
    {
     "name": "stderr",
     "output_type": "stream",
     "text": [
      "\n"
     ]
    }
   ],
   "source": [
    "# 测试\n",
    "X = np.array([[2,3],[5,4],[9,6],[4,7],[8,1],[7,2]])\n",
    "y = np.array([1,1,-1,-1,1,1])\n",
    "equery = np.array([[7,10],[4,0],[3,0]])\n",
    "\n",
    "knnclassifier = KnnClassifier(2)\n",
    "pre = knnclassifier.predict(X,y,equery)\n",
    "print(pre)\n"
   ]
  },
  {
   "cell_type": "code",
   "execution_count": 6,
   "metadata": {},
   "outputs": [
    {
     "name": "stderr",
     "output_type": "stream",
     "text": [
      "100%|██████████| 222300/222300 [02:23<00:00, 1551.60it/s]\n"
     ]
    },
    {
     "data": {
      "image/png": "[encoded data removed]",
      "text/plain": [
       "<Figure size 640x480 with 1 Axes>"
      ]
     },
     "metadata": {},
     "output_type": "display_data"
    }
   ],
   "source": [
    "# 测试\n",
    "from sklearn.datasets import make_gaussian_quantiles\n",
    "X, y = make_gaussian_quantiles(n_samples=200, n_features=2, n_classes=2, mean=[1,2],cov=2,random_state=222)\n",
    "y_neg = y.copy()\n",
    "y_neg[y==0] = -1\n",
    "\n",
    "knnclassifier = KnnClassifier(3)\n",
    "\n",
    "import matplotlib.pyplot as plt\n",
    "%matplotlib inline\n",
    "def plot_clf(X,y,cls,name):\n",
    "    x_min, x_max = X[:, 0].min() - 1, X[:, 0].max() + 1\n",
    "    y_min, y_max = X[:, 1].min() - 1, X[:, 1].max() + 1\n",
    "    xx, yy = np.meshgrid(np.arange(x_min, x_max, 0.02),\n",
    "                         np.arange(y_min, y_max, 0.02))\n",
    "    points = np.c_[xx.ravel(), yy.ravel()]\n",
    "    Z = cls.predict(X, y, points)\n",
    "    cs = plt.contourf(xx, yy, Z.reshape(xx.shape))\n",
    "    plt.scatter(X[:, 0], X[:, 1], marker='o', c='red')\n",
    "    plt.title(name)\n",
    "\n",
    "plot_clf(X,y,knnclassifier,\"knnclassifier\")"
   ]
  }
 ],
 "metadata": {
  "kernelspec": {
   "display_name": "Python 3",
   "language": "python",
   "name": "python3"
  },
  "language_info": {
   "codemirror_mode": {
    "name": "ipython",
    "version": 3
   },
   "file_extension": ".py",
   "mimetype": "text/x-python",
   "name": "python",
   "nbconvert_exporter": "python",
   "pygments_lexer": "ipython3",
   "version": "3.11.6"
  }
 },
 "nbformat": 4,
 "nbformat_minor": 2
}
