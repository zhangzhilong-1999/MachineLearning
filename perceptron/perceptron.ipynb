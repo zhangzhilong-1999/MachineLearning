{
 "cells": [
  {
   "cell_type": "markdown",
   "metadata": {},
   "source": [
    "# 感知机（perceptron）模型  "
   ]
  },
  {
   "cell_type": "code",
   "execution_count": null,
   "metadata": {},
   "outputs": [
    {
     "name": "stdout",
     "output_type": "stream",
     "text": [
      "w=[[1. 1.]]\t b=-3 \n"
     ]
    }
   ],
   "source": [
    "import numpy as np\n",
    "# input\n",
    "X=np.array([[3,3],[4,3],[1,1]])\n",
    "Y=np.array([1,1,-1])\n",
    "m, n = X.shape\n",
    "eta = 1\n",
    "w = np.zeros((n,1))\n",
    "b = 0\n",
    "\n",
    "while True:\n",
    "    geqNums = 0\n",
    "    for i in range(m):\n",
    "        if Y[i]*(X[i].dot(w)+b) > 0:\n",
    "            geqNums += 1  # 正确分类数据的个数，最理性的情况应该是m个\n",
    "        else: \n",
    "            w += eta*Y[i]*X[i].reshape(-1,1)\n",
    "            b += eta*Y[i]\n",
    "    if geqNums == m:\n",
    "        break\n",
    "print(f\"w={w.reshape(1,-1)}\\t b={b} \")\n"
   ]
  },
  {
   "cell_type": "markdown",
   "metadata": {},
   "source": [
    "## 类的实现"
   ]
  },
  {
   "cell_type": "code",
   "execution_count": 15,
   "metadata": {},
   "outputs": [],
   "source": [
    "import numpy as np\n",
    "\n",
    "class Perceptron:\n",
    "    # 初始化\n",
    "    def __init__(self, learning_rate= 1, iterations= 1000): # self指类或者实例化类对象，相当于一个代词和bridge\n",
    "        # init （列举，指定）说明类的属性，可以指定属性值，如 learning_rate和iterations, 也可以不指定，如weights和bias\n",
    "        self.learning_rate = learning_rate\n",
    "        self.iterations = iterations\n",
    "        self.weights = None\n",
    "        self.bias = None\n",
    "\n",
    "    # 一个感知机模型至少应该包含学习和预测两个功能\n",
    "    def learn(self, X, Y):\n",
    "        n_samples, n_feathures = X.shape\n",
    "        # 初始化权重和偏置\n",
    "        self.weights = np.zeros(n_feathures) # 一维的数组\n",
    "        self.bias = 0\n",
    "        y_ = np.array([1 if i >0 else 0 for i in Y])  # y_ 把 Y 转化成0-1\n",
    "        # 更新权重和偏置\n",
    "        for _ in range(self.iterations):\n",
    "            for idx, x_i in enumerate(X):\n",
    "                linear_output = x_i.dot(self.weights) + self.bias\n",
    "                y_pred = self.activation(linear_output)\n",
    "                update = self.learning_rate*(y_[idx] - y_pred)\n",
    "                self.weights += update*x_i\n",
    "                self.bias += update \n",
    "    \n",
    "    def activation(self,x):\n",
    "        return np.where(x >= 0, 1, 0) # 激活函数 sign()\n",
    "    \n",
    "    def predict(self, X):\n",
    "        pass  # 在这里，我们不关心predict， 用 pass 保证代码的完整性，不进行predict的具体实现\n",
    "\n"
   ]
  },
  {
   "cell_type": "markdown",
   "metadata": {},
   "source": [
    "## 测试"
   ]
  },
  {
   "cell_type": "code",
   "execution_count": null,
   "metadata": {},
   "outputs": [
    {
     "name": "stdout",
     "output_type": "stream",
     "text": [
      "weights = [1. 1.]\n",
      "bias = -3\n",
      "\n",
      "数据所在的位置和得到的超平面是\n"
     ]
    },
    {
     "data": {
      "text/plain": [
       "[<matplotlib.lines.Line2D at 0x1e16c3db410>]"
      ]
     },
     "execution_count": 16,
     "metadata": {},
     "output_type": "execute_result"
    },
    {
     "data": {
      "image/png": "[encoded data removed]",
      "text/plain": [
       "<Figure size 640x480 with 1 Axes>"
      ]
     },
     "metadata": {},
     "output_type": "display_data"
    }
   ],
   "source": [
    "# 示例数据 李航《机器学习方法》 例子 2.1\n",
    "X = np.array([[3,3],[4,3],[1,1]])\n",
    "y = np.array([1, 1, -1])\n",
    "perceptron = Perceptron(learning_rate=1, iterations=1000)\n",
    "perceptron.learn(X, y) \n",
    "print(f\"weights = {perceptron.weights}\\nbias = {perceptron.bias}\\n\")\n",
    "\n",
    "# 可视化\n",
    "import matplotlib.pyplot as plt\n",
    "# 超平面\n",
    "x1 = np.linspace(-1,6,50)\n",
    "x2 = -x1 -b\n",
    "print(f\"数据所在的位置和得到的超平面是\")\n",
    "plt.xlim(-1,7)\n",
    "plt.ylim(-3,7)\n",
    "plt.scatter(X[..., 0],X[..., 1])\n",
    "plt.plot(x1, x2)"
   ]
  }
 ],
 "metadata": {
  "kernelspec": {
   "display_name": "Python 3",
   "language": "python",
   "name": "python3"
  },
  "language_info": {
   "codemirror_mode": {
    "name": "ipython",
    "version": 3
   },
   "file_extension": ".py",
   "mimetype": "text/x-python",
   "name": "python",
   "nbconvert_exporter": "python",
   "pygments_lexer": "ipython3",
   "version": "3.11.6"
  }
 },
 "nbformat": 4,
 "nbformat_minor": 2
}
